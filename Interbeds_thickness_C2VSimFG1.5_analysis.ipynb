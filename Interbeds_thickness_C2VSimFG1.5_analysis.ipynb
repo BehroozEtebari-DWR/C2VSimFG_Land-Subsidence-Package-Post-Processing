{
 "cells": [
  {
   "cell_type": "code",
   "execution_count": 1,
   "id": "ca9180cb-009e-418d-a428-5bd9cd0d5943",
   "metadata": {},
   "outputs": [],
   "source": [
    "import os\n",
    "import sys\n",
    "import csv\n",
    "import arcpy\n",
    "import numpy as np\n",
    "import pandas as pd\n",
    "import matplotlib.pyplot as plt"
   ]
  },
  {
   "cell_type": "code",
   "execution_count": 2,
   "id": "b315bd9a-8d48-4570-906d-96baa0eb904c",
   "metadata": {},
   "outputs": [
    {
     "name": "stdout",
     "output_type": "stream",
     "text": [
      "   NodeID            X            Y      L1      L2      L3    L4   DC_L1  \\\n",
      "0       1  554210.8184  4498111.367  136.39  122.35  124.57  50.0   93.97   \n",
      "1       2  556163.7904  4499563.238  200.44  127.51  104.08  50.0  149.00   \n",
      "2       3  557356.8226  4501930.315  203.87  137.82   82.27  50.0  149.00   \n",
      "3       4  559132.7039  4503200.652  171.15  145.29   75.99  50.0  149.00   \n",
      "4       5  561893.4429  4503238.309  287.87  148.00   80.04  50.0  149.00   \n",
      "\n",
      "   DC_L2  DC_L3  DC_L4  \n",
      "0   49.0   49.0  24.17  \n",
      "1   49.0   49.0  24.18  \n",
      "2   49.0   49.0  26.65  \n",
      "3   49.0   49.0  28.78  \n",
      "4   49.0   49.0  31.57  \n"
     ]
    }
   ],
   "source": [
    "# Input and output file paths\n",
    "csv_file_path = r'C://Users//betebari//Documents//InSAR-Subsidence//interbed_thickness_comparison.csv'\n",
    "# Read the CSV file into a DataFrame\n",
    "df = pd.read_csv(csv_file_path)\n",
    "\n",
    "# Display the first few rows of the DataFrame\n",
    "print(df.head())"
   ]
  },
  {
   "cell_type": "code",
   "execution_count": 3,
   "id": "b8f2155e-b574-4cdf-8a2f-a6772dda2dd9",
   "metadata": {},
   "outputs": [
    {
     "name": "stdout",
     "output_type": "stream",
     "text": [
      "Updated CSV saved to: C://Users//betebari//Documents//InSAR-Subsidence//Updated_Subsidence.csv\n"
     ]
    }
   ],
   "source": [
    "# Ensure the required columns exist\n",
    "required_columns = ['L1', 'DC_L1', 'L2', 'DC_L2', 'L3', 'DC_L3', 'L4', 'DC_L4']\n",
    "missing_columns = [col for col in required_columns if col not in df.columns]\n",
    "if missing_columns:\n",
    "    raise ValueError(f\"Missing required columns: {missing_columns}\")\n",
    "\n",
    "# Calculate differences\n",
    "df['Diff_L1_DC_L1'] = df['L1'] - df['DC_L1']\n",
    "df['Diff_L2_DC_L2'] = df['L2'] - df['DC_L2']\n",
    "df['Diff_L3_DC_L3'] = df['L3'] - df['DC_L3']\n",
    "df['Diff_L4_DC_L4'] = df['L4'] - df['DC_L4']\n",
    "\n",
    "# Save the updated DataFrame (optional)\n",
    "updated_csv_path = r'C://Users//betebari//Documents//InSAR-Subsidence//Updated_Subsidence.csv'\n",
    "df.to_csv(updated_csv_path, index=False)\n",
    "print(f\"Updated CSV saved to: {updated_csv_path}\")"
   ]
  },
  {
   "cell_type": "code",
   "execution_count": 16,
   "id": "1c62e750-0db3-4e9b-8865-31da65a790ac",
   "metadata": {},
   "outputs": [
    {
     "name": "stdout",
     "output_type": "stream",
     "text": [
      "IDW Raster created: C://Users//betebari//Documents//InSAR-Subsidence\\Subsidence2.gdb/Diff_L1_DC_L1_IDW\n",
      "IDW Raster created: C://Users//betebari//Documents//InSAR-Subsidence\\Subsidence2.gdb/Diff_L2_DC_L2_IDW\n",
      "IDW Raster created: C://Users//betebari//Documents//InSAR-Subsidence\\Subsidence2.gdb/Diff_L3_DC_L3_IDW\n",
      "IDW Raster created: C://Users//betebari//Documents//InSAR-Subsidence\\Subsidence2.gdb/Diff_L4_DC_L4_IDW\n"
     ]
    },
    {
     "data": {
      "text/plain": [
       "'CheckedIn'"
      ]
     },
     "execution_count": 16,
     "metadata": {},
     "output_type": "execute_result"
    }
   ],
   "source": [
    "# Enable the Spatial Analyst extension\n",
    "arcpy.CheckOutExtension(\"Spatial\")\n",
    "\n",
    "# File paths\n",
    "csv_file_path = r'C://Users//betebari//Documents//InSAR-Subsidence//Updated_Subsidence.csv'\n",
    "gdb_folder = r'C://Users//betebari//Documents//InSAR-Subsidence'\n",
    "gdb_name = \"Subsidence.gdb\"\n",
    "gdb_path = os.path.join(gdb_folder, gdb_name)\n",
    "mask_shapefile = r\"C:/Users/betebari/Documents/C2VSim_Texture/OSWCR/central_val_buf_5mil_utm10n.shp\"\n",
    "\n",
    "# Ensure the geodatabase exists\n",
    "if not arcpy.Exists(gdb_path):\n",
    "    arcpy.CreateFileGDB_management(gdb_folder, gdb_name)\n",
    "\n",
    "# Load the DataFrame\n",
    "df = pd.read_csv(csv_file_path)\n",
    "\n",
    "# Columns to interpolate\n",
    "columns_to_interpolate = ['Diff_L1_DC_L1', 'Diff_L2_DC_L2', 'Diff_L3_DC_L3', 'Diff_L4_DC_L4']\n",
    "\n",
    "# Spatial reference\n",
    "spatial_ref = arcpy.SpatialReference(26910)  # NAD83 UTM Zone 10N\n",
    "\n",
    "# Set the ArcPy environment\n",
    "arcpy.env.workspace = gdb_path\n",
    "arcpy.env.outputCoordinateSystem = spatial_ref\n",
    "arcpy.env.extent = mask_shapefile  # Restrict extent to the shapefile\n",
    "arcpy.env.mask = mask_shapefile    # Restrict interpolation to the shapefile\n",
    "\n",
    "# Create a temporary point feature class in the geodatabase\n",
    "points_fc = f\"{gdb_path}/TempPoints\"\n",
    "if arcpy.Exists(points_fc):\n",
    "    arcpy.Delete_management(points_fc)\n",
    "\n",
    "arcpy.CreateFeatureclass_management(gdb_path, \"TempPoints\", \"POINT\", spatial_reference=spatial_ref)\n",
    "\n",
    "# Add fields for each column to interpolate\n",
    "for col in columns_to_interpolate:\n",
    "    arcpy.AddField_management(points_fc, col, \"DOUBLE\")\n",
    "\n",
    "# Insert points into the feature class\n",
    "with arcpy.da.InsertCursor(points_fc, [\"SHAPE@XY\"] + columns_to_interpolate) as cursor:\n",
    "    for _, row in df.iterrows():\n",
    "        cursor.insertRow([(row['X'], row['Y'])] + [row[col] for col in columns_to_interpolate])\n",
    "\n",
    "# Interpolate using IDW for each column\n",
    "for col in columns_to_interpolate:\n",
    "    raster_output = f\"{gdb_path}/{col}_IDW\"\n",
    "    idw_result = arcpy.sa.Idw(\n",
    "        in_point_features=points_fc,\n",
    "        z_field=col,\n",
    "        cell_size=100,  # Adjust cell size as needed\n",
    "        power=2  # Exponent for IDW; higher values give more weight to closer points\n",
    "    )\n",
    "    idw_result.save(raster_output)\n",
    "    print(f\"IDW Raster created: {raster_output}\")\n",
    "\n",
    "# Clean up temporary feature class\n",
    "arcpy.Delete_management(points_fc)\n",
    "\n",
    "# Release the Spatial Analyst extension\n",
    "arcpy.CheckInExtension(\"Spatial\")"
   ]
  },
  {
   "cell_type": "code",
   "execution_count": null,
   "id": "0c8606a8-9c76-47de-955c-f0e8ff05b409",
   "metadata": {},
   "outputs": [],
   "source": []
  }
 ],
 "metadata": {
  "kernelspec": {
   "display_name": "Python [conda env:conda-arcgispro-py3-clone]",
   "language": "python",
   "name": "conda-env-conda-arcgispro-py3-clone-py"
  },
  "language_info": {
   "codemirror_mode": {
    "name": "ipython",
    "version": 3
   },
   "file_extension": ".py",
   "mimetype": "text/x-python",
   "name": "python",
   "nbconvert_exporter": "python",
   "pygments_lexer": "ipython3",
   "version": "3.11.8"
  }
 },
 "nbformat": 4,
 "nbformat_minor": 5
}
