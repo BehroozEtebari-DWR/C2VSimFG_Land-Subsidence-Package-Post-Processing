{
 "cells": [
  {
   "cell_type": "code",
   "execution_count": 1,
   "id": "ae8d99b7",
   "metadata": {},
   "outputs": [],
   "source": [
    "import ee\n",
    "ee.Authenticate()  # You'll need to follow the instructions to authenticate\n",
    "ee.Initialize()"
   ]
  },
  {
   "cell_type": "code",
   "execution_count": 22,
   "id": "686f6242-f3a1-4fdb-8367-aa2b91fc91d6",
   "metadata": {},
   "outputs": [
    {
     "data": {
      "text/html": [
       "\n",
       "            <style>\n",
       "                .geemap-dark {\n",
       "                    --jp-widgets-color: white;\n",
       "                    --jp-widgets-label-color: white;\n",
       "                    --jp-ui-font-color1: white;\n",
       "                    --jp-layout-color2: #454545;\n",
       "                    background-color: #383838;\n",
       "                }\n",
       "\n",
       "                .geemap-dark .jupyter-button {\n",
       "                    --jp-layout-color3: #383838;\n",
       "                }\n",
       "\n",
       "                .geemap-colab {\n",
       "                    background-color: var(--colab-primary-surface-color, white);\n",
       "                }\n",
       "\n",
       "                .geemap-colab .jupyter-button {\n",
       "                    --jp-layout-color3: var(--colab-primary-surface-color, white);\n",
       "                }\n",
       "            </style>\n",
       "            "
      ],
      "text/plain": [
       "<IPython.core.display.HTML object>"
      ]
     },
     "metadata": {},
     "output_type": "display_data"
    },
    {
     "data": {
      "application/vnd.jupyter.widget-view+json": {
       "model_id": "736e1fddf1864fbdb1f8f20e25d331d6",
       "version_major": 2,
       "version_minor": 0
      },
      "text/plain": [
       "Map(center=[36.08102049165581, -119.5884170941839], controls=(WidgetControl(options=['position', 'transparent_…"
      ]
     },
     "execution_count": 22,
     "metadata": {},
     "output_type": "execute_result"
    }
   ],
   "source": [
    "# Define Central Valley polygon using your coordinates\n",
    "central_valley = ee.Geometry.Polygon([[\n",
    "  [-119.821696,  36.917661],\n",
    "  [-119.151455,  36.491729],\n",
    "  [-118.962469,  35.903247],\n",
    "  [-118.730887,  35.238055],\n",
    "  [-118.839257,  35.122308],\n",
    "  [-118.883280,  34.950407],\n",
    "  [-119.001362,  35.036397],\n",
    "  [-119.279275,  35.023953],\n",
    "  [-118.839257,  35.122308],\n",
    "  [-120.012630,  35.606365],\n",
    "  [-119.909518,  35.953074],    \n",
    "  [-120.724549,  36.737623],\n",
    "]])\n",
    "\n",
    "# Filter Sentinel-1 ImageCollection over Central Valley\n",
    "sentinel1 = ee.ImageCollection('COPERNICUS/S1_GRD') \\\n",
    "              .filterBounds(central_valley) \\\n",
    "              .filter(ee.Filter.eq('instrumentMode', 'IW')) \\\n",
    "              .filter(ee.Filter.eq('orbitProperties_pass', 'DESCENDING')) \\\n",
    "              .filter(ee.Filter.listContains('transmitterReceiverPolarisation', 'VV')) \\\n",
    "              .filterDate('2022-01-01', '2024-03-31')  # Adjust main time window if needed\n",
    "\n",
    "# Select two images for interferogram with specific time windows\n",
    "image1 = sentinel1.filterDate('2022-01-01', '2022-01-15').first()  # First time window\n",
    "image2 = sentinel1.filterDate('2023-02-01', '2024-02-15').first()  # Second time window\n",
    "\n",
    "# Create interferogram by calculating the phase difference and selecting 'VV' band\n",
    "def calculate_interferogram(img1, img2):\n",
    "    return img2.subtract(img1).select('VV')\n",
    "\n",
    "interferogram = calculate_interferogram(image1, image2)\n",
    "\n",
    "# Define visualization parameters for the single band (VV)\n",
    "viz_params = {\n",
    "    'min': -25,\n",
    "    'max': 1,\n",
    "    'palette': ['blue', 'yellow', 'red']\n",
    "}\n",
    "\n",
    "# Import geemap for visualization\n",
    "import geemap\n",
    "Map = geemap.Map()\n",
    "Map.centerObject(central_valley, 10)\n",
    "Map.addLayer(interferogram, viz_params, 'InSAR VV Interferogram')\n",
    "Map"
   ]
  },
  {
   "cell_type": "code",
   "execution_count": 23,
   "id": "72083bd6-8987-461f-aca9-105435eba441",
   "metadata": {},
   "outputs": [
    {
     "data": {
      "text/html": [
       "\n",
       "            <style>\n",
       "                .geemap-dark {\n",
       "                    --jp-widgets-color: white;\n",
       "                    --jp-widgets-label-color: white;\n",
       "                    --jp-ui-font-color1: white;\n",
       "                    --jp-layout-color2: #454545;\n",
       "                    background-color: #383838;\n",
       "                }\n",
       "\n",
       "                .geemap-dark .jupyter-button {\n",
       "                    --jp-layout-color3: #383838;\n",
       "                }\n",
       "\n",
       "                .geemap-colab {\n",
       "                    background-color: var(--colab-primary-surface-color, white);\n",
       "                }\n",
       "\n",
       "                .geemap-colab .jupyter-button {\n",
       "                    --jp-layout-color3: var(--colab-primary-surface-color, white);\n",
       "                }\n",
       "            </style>\n",
       "            "
      ],
      "text/plain": [
       "<IPython.core.display.HTML object>"
      ]
     },
     "metadata": {},
     "output_type": "display_data"
    },
    {
     "name": "stdout",
     "output_type": "stream",
     "text": [
      "Export task started. Check Google Cloud Storage for the result.\n"
     ]
    }
   ],
   "source": [
    "# Export the interferogram to Google Cloud Storage (GCS)\n",
    "export_task = ee.batch.Export.image.toCloudStorage(\n",
    "    image=interferogram,\n",
    "    description='InSAR_Interferogram_Central_Valley',\n",
    "    bucket='My-bucket-name-Behrooz',  # Replace with your GCS bucket name\n",
    "    fileNamePrefix='InSAR_Interferogram',  # File prefix for the exported file\n",
    "    scale=30,  # Set resolution in meters\n",
    "    region=central_valley,\n",
    "    maxPixels=1e12,  # Adjust based on your dataset\n",
    "    fileFormat='GeoTIFF'\n",
    ")\n",
    "\n",
    "# Start the export task\n",
    "export_task.start()\n",
    "\n",
    "print(\"Export task started. Check Google Cloud Storage for the result.\")"
   ]
  },
  {
   "cell_type": "code",
   "execution_count": null,
   "id": "090fdbd2-2ce0-4f0d-acc0-91094f618a8d",
   "metadata": {},
   "outputs": [],
   "source": []
  }
 ],
 "metadata": {
  "kernelspec": {
   "display_name": "Python 3 (ipykernel)",
   "language": "python",
   "name": "python3"
  },
  "language_info": {
   "codemirror_mode": {
    "name": "ipython",
    "version": 3
   },
   "file_extension": ".py",
   "mimetype": "text/x-python",
   "name": "python",
   "nbconvert_exporter": "python",
   "pygments_lexer": "ipython3",
   "version": "3.11.5"
  }
 },
 "nbformat": 4,
 "nbformat_minor": 5
}
